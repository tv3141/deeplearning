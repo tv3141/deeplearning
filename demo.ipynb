{
 "cells": [
  {
   "cell_type": "code",
   "execution_count": 23,
   "metadata": {},
   "outputs": [
    {
     "data": {
      "application/vnd.jupyter.widget-view+json": {
       "model_id": "332fca8b592a4938b680f607108e46fb",
       "version_major": 2,
       "version_minor": 0
      },
      "text/plain": [
       "VBox(children=(Label(value='Select an image.'), FileUpload(value={}, description='Upload'), Output(), Label(va…"
      ]
     },
     "metadata": {},
     "output_type": "display_data"
    },
    {
     "name": "stdout",
     "output_type": "stream",
     "text": [
      "dict_keys(['Screenshot_2020-11-20_14-52-44.png'])\n"
     ]
    }
   ],
   "source": [
    "from ipywidgets import FileUpload, Label, Output, VBox\n",
    "\n",
    "upload_button = FileUpload()\n",
    "output_field = Output()\n",
    "pred_label = Label()\n",
    "\n",
    "def on_data_change(change):\n",
    "    print(upload_button.value.keys())\n",
    "    output_field.clear_output()\n",
    "    with output_field:\n",
    "        display('bar')\n",
    "    pred_label.value = f'foo'\n",
    "    \n",
    "upload_button.observe(on_data_change, names=['data'])\n",
    "\n",
    "display(VBox([Label('Select an image.'), upload_button, output_field, pred_label]))"
   ]
  },
  {
   "cell_type": "code",
   "execution_count": null,
   "metadata": {},
   "outputs": [],
   "source": []
  }
 ],
 "metadata": {
  "kernelspec": {
   "display_name": "Python 3",
   "language": "python",
   "name": "python3"
  },
  "language_info": {
   "codemirror_mode": {
    "name": "ipython",
    "version": 3
   },
   "file_extension": ".py",
   "mimetype": "text/x-python",
   "name": "python",
   "nbconvert_exporter": "python",
   "pygments_lexer": "ipython3",
   "version": "3.7.8"
  }
 },
 "nbformat": 4,
 "nbformat_minor": 4
}
