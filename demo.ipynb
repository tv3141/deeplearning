{
 "cells": [
  {
   "cell_type": "code",
   "execution_count": null,
   "metadata": {
    "scrolled": true
   },
   "outputs": [],
   "source": [
    "import io\n",
    "\n",
    "from ipywidgets import FileUpload, Label, Output, VBox\n",
    "\n",
    "from fastai.vision.all import load_learner\n",
    "from PIL import Image\n",
    "\n",
    "learner = load_learner('dog_breed_model.pkl', cpu=True)\n",
    "\n",
    "upload_button = FileUpload()\n",
    "output_field = Output()\n",
    "pred_label = Label()\n",
    "pred_prob_label = Label()\n",
    "\n",
    "def on_data_change(change):\n",
    "    img = Image.open(io.BytesIO(upload_button.data[-1]))\n",
    "    output_field.clear_output()\n",
    "    with output_field:\n",
    "        display(img.to_thumb(128, 128))\n",
    "    pred, pred_idx, probs = learner.predict(img.to_bytes_format())\n",
    "    pred_label.value = f'Prediction: {pred}'\n",
    "    pred_prob_label.value = f'Probability: {probs[pred_idx]:.04f}'\n",
    "    \n",
    "upload_button.observe(on_data_change, names=['data'])\n",
    "\n",
    "display(VBox([Label('Select an image.'), upload_button, output_field, pred_label, pred_prob_label]))"
   ]
  },
  {
   "cell_type": "code",
   "execution_count": null,
   "metadata": {},
   "outputs": [],
   "source": []
  }
 ],
 "metadata": {
  "kernelspec": {
   "display_name": "Python 3",
   "language": "python",
   "name": "python3"
  },
  "language_info": {
   "codemirror_mode": {
    "name": "ipython",
    "version": 3
   },
   "file_extension": ".py",
   "mimetype": "text/x-python",
   "name": "python",
   "nbconvert_exporter": "python",
   "pygments_lexer": "ipython3",
   "version": "3.7.8"
  }
 },
 "nbformat": 4,
 "nbformat_minor": 4
}
